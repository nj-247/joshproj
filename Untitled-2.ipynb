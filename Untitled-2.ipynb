{
 "cells": [
  {
   "cell_type": "code",
   "execution_count": null,
   "id": "aa2420de",
   "metadata": {},
   "outputs": [
    {
     "name": "stdout",
     "output_type": "stream",
     "text": [
      "age                                int64\n",
      "sex                               object\n",
      "chest_pain_type                   object\n",
      "resting_blood_pressure             int64\n",
      "cholestoral                        int64\n",
      "fasting_blood_sugar               object\n",
      "rest_ecg                          object\n",
      "Max_heart_rate                     int64\n",
      "exercise_induced_angina           object\n",
      "oldpeak                          float64\n",
      "slope                             object\n",
      "vessels_colored_by_flourosopy     object\n",
      "thalassemia                       object\n",
      "target                             int64\n",
      "dtype: object\n",
      "Index(['age', 'sex', 'chest_pain_type', 'resting_blood_pressure',\n",
      "       'cholestoral', 'fasting_blood_sugar', 'rest_ecg', 'Max_heart_rate',\n",
      "       'exercise_induced_angina', 'oldpeak', 'slope',\n",
      "       'vessels_colored_by_flourosopy', 'thalassemia'],\n",
      "      dtype='object')\n"
     ]
    }
   ],
   "source": []
  },
  {
   "cell_type": "code",
   "execution_count": 20,
   "id": "63c8b45f",
   "metadata": {},
   "outputs": [
    {
     "name": "stdout",
     "output_type": "stream",
     "text": [
      "Enum mapping:\n",
      "sex: {'Male': 0, 'Female': 1}\n",
      "chest_pain_type: {'Typical angina': 0, 'Atypical angina': 1, 'Non-anginal pain': 2, 'Asymptomatic': 3}\n",
      "fasting_blood_sugar: {'Lower than 120 mg/ml': 0, 'Greater than 120 mg/ml': 1}\n",
      "rest_ecg: {'ST-T wave abnormality': 0, 'Normal': 1, 'Left ventricular hypertrophy': 2}\n",
      "exercise_induced_angina: {'No': 0, 'Yes': 1}\n",
      "slope: {'Downsloping': 0, 'Upsloping': 1, 'Flat': 2}\n",
      "vessels_colored_by_flourosopy: {'Two': 0, 'Zero': 1, 'One': 2, 'Three': 3, 'Four': 4}\n",
      "thalassemia: {'Reversable Defect': 0, 'Fixed Defect': 1, 'Normal': 2, 'No': 3}\n",
      "\n",
      "Converted DataFrame dtypes:\n",
      "age                                int64\n",
      "sex                                int64\n",
      "chest_pain_type                    int64\n",
      "resting_blood_pressure             int64\n",
      "cholestoral                        int64\n",
      "fasting_blood_sugar                int64\n",
      "rest_ecg                           int64\n",
      "Max_heart_rate                     int64\n",
      "exercise_induced_angina            int64\n",
      "oldpeak                          float64\n",
      "slope                              int64\n",
      "vessels_colored_by_flourosopy      int64\n",
      "thalassemia                        int64\n",
      "target                             int64\n",
      "dtype: object\n"
     ]
    }
   ],
   "source": [
    "import pandas as pd\n",
    "\n",
    "# Load data\n",
    "df = pd.read_csv(\"HeartDiseaseTrain-Test.csv\")\n",
    "\n",
    "# Dictionary to store mappings\n",
    "enum_mapping = {}\n",
    "\n",
    "# Convert all object columns to integer codes\n",
    "for col in df.select_dtypes(include=['object']).columns:\n",
    "    df[col], uniques = pd.factorize(df[col])\n",
    "    enum_mapping[col] = {category: code for code, category in enumerate(uniques)}\n",
    "\n",
    "# Ensure all columns are int (floats can be kept as they are if needed)\n",
    "for col in df.columns:\n",
    "    if df[col].dtype == 'float':\n",
    "        # Keep floats (like oldpeak) as-is\n",
    "        pass\n",
    "    else:\n",
    "        df[col] = df[col].astype(int)\n",
    "\n",
    "print(\"Enum mapping:\")\n",
    "for col, mapping in enum_mapping.items():\n",
    "    print(f\"{col}: {mapping}\")\n",
    "\n",
    "print(\"\\nConverted DataFrame dtypes:\")\n",
    "print(df.dtypes)\n"
   ]
  },
  {
   "cell_type": "code",
   "execution_count": 21,
   "id": "87f99e90",
   "metadata": {},
   "outputs": [
    {
     "name": "stdout",
     "output_type": "stream",
     "text": [
      "age                                int64\n",
      "sex                                int64\n",
      "chest_pain_type                    int64\n",
      "resting_blood_pressure             int64\n",
      "cholestoral                        int64\n",
      "fasting_blood_sugar                int64\n",
      "rest_ecg                           int64\n",
      "Max_heart_rate                     int64\n",
      "exercise_induced_angina            int64\n",
      "oldpeak                          float64\n",
      "slope                              int64\n",
      "vessels_colored_by_flourosopy      int64\n",
      "thalassemia                        int64\n",
      "target                             int64\n",
      "dtype: object\n",
      "Index(['age', 'sex', 'chest_pain_type', 'resting_blood_pressure',\n",
      "       'cholestoral', 'fasting_blood_sugar', 'rest_ecg', 'Max_heart_rate',\n",
      "       'exercise_induced_angina', 'oldpeak', 'slope',\n",
      "       'vessels_colored_by_flourosopy', 'thalassemia'],\n",
      "      dtype='object')\n"
     ]
    }
   ],
   "source": [
    "import pandas as pd\n",
    "from sklearn.feature_selection import RFE\n",
    "from sklearn.model_selection import train_test_split\n",
    "from sklearn.metrics import accuracy_score, f1_score, confusion_matrix, classification_report\n",
    "from xgboost import XGBClassifier\n",
    "import numpy as np\n",
    "\n",
    "# Separate features and target\n",
    "X = df.drop(columns=[\"target\"])\n",
    "y = df[\"target\"]\n",
    "\n",
    "# Train-test split\n",
    "X_train, X_test, y_train, y_test = train_test_split(X, y, test_size=0.2, random_state=42)\n",
    "print(df.dtypes)\n",
    "print(X_train.columns)\n"
   ]
  },
  {
   "cell_type": "code",
   "execution_count": 24,
   "id": "fe701cd7",
   "metadata": {},
   "outputs": [
    {
     "name": "stdout",
     "output_type": "stream",
     "text": [
      "0.9463414634146341 0.9463414634146341 [[97  5]\n",
      " [ 6 97]]               precision    recall  f1-score   support\n",
      "\n",
      "           0       0.94      0.95      0.95       102\n",
      "           1       0.95      0.94      0.95       103\n",
      "\n",
      "    accuracy                           0.95       205\n",
      "   macro avg       0.95      0.95      0.95       205\n",
      "weighted avg       0.95      0.95      0.95       205\n",
      "\n",
      "done\n"
     ]
    }
   ],
   "source": [
    "# XGBClassifier setup\n",
    "xgb_model = XGBClassifier(\n",
    "    # Core parameters\n",
    "    booster='gbtree',\n",
    "    objective='binary:logistic',\n",
    "    eval_metric='logloss',    # avoid default warnings, good for binary\n",
    "    \n",
    "    # Tree complexity\n",
    "    max_depth=4,              # controls model complexity\n",
    "    min_child_weight=3,       # minimum sum of instance weight in a child node\n",
    "    gamma=0.2,                 # min loss reduction for further partition\n",
    "    \n",
    "    # Sampling for generalization\n",
    "    subsample=0.8,             # row sampling\n",
    "    colsample_bytree=0.8,      # feature sampling\n",
    "    \n",
    "    # Regularization\n",
    "    reg_alpha=0.1,             # L1 regularization\n",
    "    reg_lambda=1.0,            # L2 regularization\n",
    "    \n",
    "    # Boosting process\n",
    "    n_estimators=400,          # number of trees\n",
    "    learning_rate=0.03,        # smaller for smoother learning\n",
    "    scale_pos_weight=1,        # adjust if target is imbalanced\n",
    "    \n",
    "    # Randomness control\n",
    "    random_state=42,\n",
    "    n_jobs=-1                  # use all CPU cores\n",
    ")\n",
    "\n",
    "\n",
    "# Train\n",
    "xgb_model.fit(X_train, y_train)\n",
    "\n",
    "# Predictions\n",
    "y_pred = xgb_model.predict(X_test)\n",
    "\n",
    "# Evaluation\n",
    "acc = accuracy_score(y_test, y_pred)\n",
    "f1 = f1_score(y_test, y_pred)\n",
    "cm = confusion_matrix(y_test, y_pred)\n",
    "report = classification_report(y_test, y_pred)\n",
    "\n",
    "print(acc, f1, cm, report)\n",
    "print(\"done\")"
   ]
  },
  {
   "cell_type": "code",
   "execution_count": 25,
   "id": "078d2fab",
   "metadata": {},
   "outputs": [
    {
     "name": "stdout",
     "output_type": "stream",
     "text": [
      "✅ model created successfully!\n"
     ]
    }
   ],
   "source": [
    "import joblib\n",
    "\n",
    "# Save trained model to model.pkl\n",
    "joblib.dump(xgb_model, \"jn_model.pkl\")\n",
    "print(\"✅ model created successfully!\")"
   ]
  }
 ],
 "metadata": {
  "kernelspec": {
   "display_name": "Python 3",
   "language": "python",
   "name": "python3"
  },
  "language_info": {
   "codemirror_mode": {
    "name": "ipython",
    "version": 3
   },
   "file_extension": ".py",
   "mimetype": "text/x-python",
   "name": "python",
   "nbconvert_exporter": "python",
   "pygments_lexer": "ipython3",
   "version": "3.11.9"
  }
 },
 "nbformat": 4,
 "nbformat_minor": 5
}
